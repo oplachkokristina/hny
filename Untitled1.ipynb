{
  "nbformat": 4,
  "nbformat_minor": 0,
  "metadata": {
    "colab": {
      "provenance": [],
      "authorship_tag": "ABX9TyNVG8R5pe9138f4o9saHYhr",
      "include_colab_link": true
    },
    "kernelspec": {
      "name": "python3",
      "display_name": "Python 3"
    },
    "language_info": {
      "name": "python"
    }
  },
  "cells": [
    {
      "cell_type": "markdown",
      "metadata": {
        "id": "view-in-github",
        "colab_type": "text"
      },
      "source": [
        "<a href=\"https://colab.research.google.com/github/oplachkokristina/hny/blob/ghy3/Untitled1.ipynb\" target=\"_parent\"><img src=\"https://colab.research.google.com/assets/colab-badge.svg\" alt=\"Open In Colab\"/></a>"
      ]
    },
    {
      "cell_type": "code",
      "source": [
        "a = int(input())\n",
        "b = int(input())\n",
        "c = a*b\n",
        "print(f'Итого: ',c,' руб. ')"
      ],
      "metadata": {
        "id": "x1huOQmVjljt",
        "colab": {
          "base_uri": "https://localhost:8080/"
        },
        "outputId": "5653d9fb-5266-4583-acf4-4210e82ac5c1"
      },
      "execution_count": 1,
      "outputs": [
        {
          "output_type": "stream",
          "name": "stdout",
          "text": [
            "5\n",
            "8\n",
            "Итого:  40  руб. \n"
          ]
        }
      ]
    }
  ]
}